{
 "cells": [
  {
   "cell_type": "markdown",
   "id": "a9209c30-8291-461b-87da-478adefeff01",
   "metadata": {},
   "source": [
    "# 1.Understanding the Data"
   ]
  },
  {
   "cell_type": "code",
   "execution_count": 4,
   "id": "175d6a8f-1172-4a39-8e1e-ec93c9c5cde2",
   "metadata": {},
   "outputs": [
    {
     "data": {
      "text/html": [
       "<div>\n",
       "<style scoped>\n",
       "    .dataframe tbody tr th:only-of-type {\n",
       "        vertical-align: middle;\n",
       "    }\n",
       "\n",
       "    .dataframe tbody tr th {\n",
       "        vertical-align: top;\n",
       "    }\n",
       "\n",
       "    .dataframe thead th {\n",
       "        text-align: right;\n",
       "    }\n",
       "</style>\n",
       "<table border=\"1\" class=\"dataframe\">\n",
       "  <thead>\n",
       "    <tr style=\"text-align: right;\">\n",
       "      <th></th>\n",
       "      <th>SNo</th>\n",
       "      <th>ObservationDate</th>\n",
       "      <th>Province/State</th>\n",
       "      <th>Country/Region</th>\n",
       "      <th>Last Update</th>\n",
       "      <th>Confirmed</th>\n",
       "      <th>Deaths</th>\n",
       "      <th>Recovered</th>\n",
       "    </tr>\n",
       "  </thead>\n",
       "  <tbody>\n",
       "    <tr>\n",
       "      <th>0</th>\n",
       "      <td>1</td>\n",
       "      <td>01/22/2020</td>\n",
       "      <td>Anhui</td>\n",
       "      <td>Mainland China</td>\n",
       "      <td>1/22/2020 17:00</td>\n",
       "      <td>1.0</td>\n",
       "      <td>0.0</td>\n",
       "      <td>0.0</td>\n",
       "    </tr>\n",
       "    <tr>\n",
       "      <th>1</th>\n",
       "      <td>2</td>\n",
       "      <td>01/22/2020</td>\n",
       "      <td>Beijing</td>\n",
       "      <td>Mainland China</td>\n",
       "      <td>1/22/2020 17:00</td>\n",
       "      <td>14.0</td>\n",
       "      <td>0.0</td>\n",
       "      <td>0.0</td>\n",
       "    </tr>\n",
       "    <tr>\n",
       "      <th>2</th>\n",
       "      <td>3</td>\n",
       "      <td>01/22/2020</td>\n",
       "      <td>Chongqing</td>\n",
       "      <td>Mainland China</td>\n",
       "      <td>1/22/2020 17:00</td>\n",
       "      <td>6.0</td>\n",
       "      <td>0.0</td>\n",
       "      <td>0.0</td>\n",
       "    </tr>\n",
       "    <tr>\n",
       "      <th>3</th>\n",
       "      <td>4</td>\n",
       "      <td>01/22/2020</td>\n",
       "      <td>Fujian</td>\n",
       "      <td>Mainland China</td>\n",
       "      <td>1/22/2020 17:00</td>\n",
       "      <td>1.0</td>\n",
       "      <td>0.0</td>\n",
       "      <td>0.0</td>\n",
       "    </tr>\n",
       "    <tr>\n",
       "      <th>4</th>\n",
       "      <td>5</td>\n",
       "      <td>01/22/2020</td>\n",
       "      <td>Gansu</td>\n",
       "      <td>Mainland China</td>\n",
       "      <td>1/22/2020 17:00</td>\n",
       "      <td>0.0</td>\n",
       "      <td>0.0</td>\n",
       "      <td>0.0</td>\n",
       "    </tr>\n",
       "    <tr>\n",
       "      <th>...</th>\n",
       "      <td>...</td>\n",
       "      <td>...</td>\n",
       "      <td>...</td>\n",
       "      <td>...</td>\n",
       "      <td>...</td>\n",
       "      <td>...</td>\n",
       "      <td>...</td>\n",
       "      <td>...</td>\n",
       "    </tr>\n",
       "    <tr>\n",
       "      <th>306424</th>\n",
       "      <td>306425</td>\n",
       "      <td>05/29/2021</td>\n",
       "      <td>Zaporizhia Oblast</td>\n",
       "      <td>Ukraine</td>\n",
       "      <td>2021-05-30 04:20:55</td>\n",
       "      <td>102641.0</td>\n",
       "      <td>2335.0</td>\n",
       "      <td>95289.0</td>\n",
       "    </tr>\n",
       "    <tr>\n",
       "      <th>306425</th>\n",
       "      <td>306426</td>\n",
       "      <td>05/29/2021</td>\n",
       "      <td>Zeeland</td>\n",
       "      <td>Netherlands</td>\n",
       "      <td>2021-05-30 04:20:55</td>\n",
       "      <td>29147.0</td>\n",
       "      <td>245.0</td>\n",
       "      <td>0.0</td>\n",
       "    </tr>\n",
       "    <tr>\n",
       "      <th>306426</th>\n",
       "      <td>306427</td>\n",
       "      <td>05/29/2021</td>\n",
       "      <td>Zhejiang</td>\n",
       "      <td>Mainland China</td>\n",
       "      <td>2021-05-30 04:20:55</td>\n",
       "      <td>1364.0</td>\n",
       "      <td>1.0</td>\n",
       "      <td>1324.0</td>\n",
       "    </tr>\n",
       "    <tr>\n",
       "      <th>306427</th>\n",
       "      <td>306428</td>\n",
       "      <td>05/29/2021</td>\n",
       "      <td>Zhytomyr Oblast</td>\n",
       "      <td>Ukraine</td>\n",
       "      <td>2021-05-30 04:20:55</td>\n",
       "      <td>87550.0</td>\n",
       "      <td>1738.0</td>\n",
       "      <td>83790.0</td>\n",
       "    </tr>\n",
       "    <tr>\n",
       "      <th>306428</th>\n",
       "      <td>306429</td>\n",
       "      <td>05/29/2021</td>\n",
       "      <td>Zuid-Holland</td>\n",
       "      <td>Netherlands</td>\n",
       "      <td>2021-05-30 04:20:55</td>\n",
       "      <td>391559.0</td>\n",
       "      <td>4252.0</td>\n",
       "      <td>0.0</td>\n",
       "    </tr>\n",
       "  </tbody>\n",
       "</table>\n",
       "<p>306429 rows × 8 columns</p>\n",
       "</div>"
      ],
      "text/plain": [
       "           SNo ObservationDate     Province/State  Country/Region  \\\n",
       "0            1      01/22/2020              Anhui  Mainland China   \n",
       "1            2      01/22/2020            Beijing  Mainland China   \n",
       "2            3      01/22/2020          Chongqing  Mainland China   \n",
       "3            4      01/22/2020             Fujian  Mainland China   \n",
       "4            5      01/22/2020              Gansu  Mainland China   \n",
       "...        ...             ...                ...             ...   \n",
       "306424  306425      05/29/2021  Zaporizhia Oblast         Ukraine   \n",
       "306425  306426      05/29/2021            Zeeland     Netherlands   \n",
       "306426  306427      05/29/2021           Zhejiang  Mainland China   \n",
       "306427  306428      05/29/2021    Zhytomyr Oblast         Ukraine   \n",
       "306428  306429      05/29/2021       Zuid-Holland     Netherlands   \n",
       "\n",
       "                Last Update  Confirmed  Deaths  Recovered  \n",
       "0           1/22/2020 17:00        1.0     0.0        0.0  \n",
       "1           1/22/2020 17:00       14.0     0.0        0.0  \n",
       "2           1/22/2020 17:00        6.0     0.0        0.0  \n",
       "3           1/22/2020 17:00        1.0     0.0        0.0  \n",
       "4           1/22/2020 17:00        0.0     0.0        0.0  \n",
       "...                     ...        ...     ...        ...  \n",
       "306424  2021-05-30 04:20:55   102641.0  2335.0    95289.0  \n",
       "306425  2021-05-30 04:20:55    29147.0   245.0        0.0  \n",
       "306426  2021-05-30 04:20:55     1364.0     1.0     1324.0  \n",
       "306427  2021-05-30 04:20:55    87550.0  1738.0    83790.0  \n",
       "306428  2021-05-30 04:20:55   391559.0  4252.0        0.0  \n",
       "\n",
       "[306429 rows x 8 columns]"
      ]
     },
     "execution_count": 4,
     "metadata": {},
     "output_type": "execute_result"
    }
   ],
   "source": [
    "# Load the dataset\n",
    "import pandas as pd\n",
    "df=pd.read_csv(r\"C:\\Users\\HP\\Documents\\python book\\covid_19_data.csv\")\n",
    "df"
   ]
  },
  {
   "cell_type": "code",
   "execution_count": 34,
   "id": "02b638c3-31a5-42e0-9a48-6d8fa383242a",
   "metadata": {},
   "outputs": [],
   "source": [
    "# load required libraries/modules\n",
    "import pandas as pd\n",
    "import matplotlib.pyplot as plt\n",
    "import seaborn as sns"
   ]
  },
  {
   "cell_type": "code",
   "execution_count": 78,
   "id": "14debe6f-bdba-4be6-bce6-31667e5a84ce",
   "metadata": {},
   "outputs": [
    {
     "name": "stdout",
     "output_type": "stream",
     "text": [
      "<class 'pandas.core.frame.DataFrame'>\n",
      "RangeIndex: 306429 entries, 0 to 306428\n",
      "Data columns (total 8 columns):\n",
      " #   Column           Non-Null Count   Dtype  \n",
      "---  ------           --------------   -----  \n",
      " 0   SNo              306429 non-null  int64  \n",
      " 1   ObservationDate  306429 non-null  object \n",
      " 2   Province/State   228326 non-null  object \n",
      " 3   Country/Region   306429 non-null  object \n",
      " 4   Last Update      306429 non-null  object \n",
      " 5   Confirmed        306429 non-null  float64\n",
      " 6   Deaths           306429 non-null  float64\n",
      " 7   Recovered        306429 non-null  float64\n",
      "dtypes: float64(3), int64(1), object(4)\n",
      "memory usage: 18.7+ MB\n"
     ]
    }
   ],
   "source": [
    "# Display basic information about the dataset\n",
    "df.info()"
   ]
  },
  {
   "cell_type": "code",
   "execution_count": null,
   "id": "152f371c-7f93-4c75-a60a-ccd8f7b6ddb0",
   "metadata": {},
   "outputs": [],
   "source": [
    "df.isna().sum()"
   ]
  },
  {
   "cell_type": "markdown",
   "id": "a341c031-938e-4666-b6be-2304fa2a19ac",
   "metadata": {},
   "source": [
    "# 2. Data Cleaning:"
   ]
  },
  {
   "cell_type": "code",
   "execution_count": null,
   "id": "bfa9ed5c-3670-4e6b-a01a-8a5e3ceb50c5",
   "metadata": {},
   "outputs": [],
   "source": [
    "#Handle missing values\n",
    "for i in df:\n",
    "    if df[i].dtypes=='object':\n",
    "        m=df[i].mode()[0]\n",
    "        df[i]=df[i].fillna(m)\n",
    "\n",
    "df.isna().sum()\n"
   ]
  },
  {
   "cell_type": "code",
   "execution_count": null,
   "id": "85132ff4-6d65-4923-91a3-f0e1f60e9b8f",
   "metadata": {},
   "outputs": [],
   "source": [
    "df.columns"
   ]
  },
  {
   "cell_type": "code",
   "execution_count": 88,
   "id": "28f8b316-125c-4e5b-82ff-93fe85cddfd8",
   "metadata": {},
   "outputs": [],
   "source": [
    "# Convert data types if necessary ( ObservationDate    datetime64[ns]) change to datetime\n",
    "df['ObservationDate']=pd.to_datetime(df['ObservationDate'])"
   ]
  },
  {
   "cell_type": "code",
   "execution_count": 94,
   "id": "f57114ad-1d60-4b33-b26d-dfdda29961ad",
   "metadata": {},
   "outputs": [
    {
     "name": "stdout",
     "output_type": "stream",
     "text": [
      "Number of duplicates : 0\n"
     ]
    }
   ],
   "source": [
    "# Check for duplicates\n",
    "print('Number of duplicates :',df.duplicated().sum())\n"
   ]
  },
  {
   "cell_type": "code",
   "execution_count": 62,
   "id": "69f52efa-947a-41e0-9387-1104f5e92884",
   "metadata": {},
   "outputs": [
    {
     "data": {
      "text/html": [
       "<div>\n",
       "<style scoped>\n",
       "    .dataframe tbody tr th:only-of-type {\n",
       "        vertical-align: middle;\n",
       "    }\n",
       "\n",
       "    .dataframe tbody tr th {\n",
       "        vertical-align: top;\n",
       "    }\n",
       "\n",
       "    .dataframe thead th {\n",
       "        text-align: right;\n",
       "    }\n",
       "</style>\n",
       "<table border=\"1\" class=\"dataframe\">\n",
       "  <thead>\n",
       "    <tr style=\"text-align: right;\">\n",
       "      <th></th>\n",
       "      <th>SNo</th>\n",
       "      <th>Confirmed</th>\n",
       "      <th>Deaths</th>\n",
       "      <th>Recovered</th>\n",
       "    </tr>\n",
       "  </thead>\n",
       "  <tbody>\n",
       "    <tr>\n",
       "      <th>count</th>\n",
       "      <td>306429.000000</td>\n",
       "      <td>3.064290e+05</td>\n",
       "      <td>306429.000000</td>\n",
       "      <td>3.064290e+05</td>\n",
       "    </tr>\n",
       "    <tr>\n",
       "      <th>mean</th>\n",
       "      <td>153215.000000</td>\n",
       "      <td>8.567091e+04</td>\n",
       "      <td>2036.403268</td>\n",
       "      <td>5.042029e+04</td>\n",
       "    </tr>\n",
       "    <tr>\n",
       "      <th>std</th>\n",
       "      <td>88458.577156</td>\n",
       "      <td>2.775516e+05</td>\n",
       "      <td>6410.938048</td>\n",
       "      <td>2.015124e+05</td>\n",
       "    </tr>\n",
       "    <tr>\n",
       "      <th>min</th>\n",
       "      <td>1.000000</td>\n",
       "      <td>-3.028440e+05</td>\n",
       "      <td>-178.000000</td>\n",
       "      <td>-8.544050e+05</td>\n",
       "    </tr>\n",
       "    <tr>\n",
       "      <th>25%</th>\n",
       "      <td>76608.000000</td>\n",
       "      <td>1.042000e+03</td>\n",
       "      <td>13.000000</td>\n",
       "      <td>1.100000e+01</td>\n",
       "    </tr>\n",
       "    <tr>\n",
       "      <th>50%</th>\n",
       "      <td>153215.000000</td>\n",
       "      <td>1.037500e+04</td>\n",
       "      <td>192.000000</td>\n",
       "      <td>1.751000e+03</td>\n",
       "    </tr>\n",
       "    <tr>\n",
       "      <th>75%</th>\n",
       "      <td>229822.000000</td>\n",
       "      <td>5.075200e+04</td>\n",
       "      <td>1322.000000</td>\n",
       "      <td>2.027000e+04</td>\n",
       "    </tr>\n",
       "    <tr>\n",
       "      <th>max</th>\n",
       "      <td>306429.000000</td>\n",
       "      <td>5.863138e+06</td>\n",
       "      <td>112385.000000</td>\n",
       "      <td>6.399531e+06</td>\n",
       "    </tr>\n",
       "  </tbody>\n",
       "</table>\n",
       "</div>"
      ],
      "text/plain": [
       "                 SNo     Confirmed         Deaths     Recovered\n",
       "count  306429.000000  3.064290e+05  306429.000000  3.064290e+05\n",
       "mean   153215.000000  8.567091e+04    2036.403268  5.042029e+04\n",
       "std     88458.577156  2.775516e+05    6410.938048  2.015124e+05\n",
       "min         1.000000 -3.028440e+05    -178.000000 -8.544050e+05\n",
       "25%     76608.000000  1.042000e+03      13.000000  1.100000e+01\n",
       "50%    153215.000000  1.037500e+04     192.000000  1.751000e+03\n",
       "75%    229822.000000  5.075200e+04    1322.000000  2.027000e+04\n",
       "max    306429.000000  5.863138e+06  112385.000000  6.399531e+06"
      ]
     },
     "execution_count": 62,
     "metadata": {},
     "output_type": "execute_result"
    }
   ],
   "source": [
    "df.describe()"
   ]
  },
  {
   "cell_type": "markdown",
   "id": "bf2a44f1-0f21-42d2-9b09-f2c54e9f101b",
   "metadata": {},
   "source": [
    "# 3 Descriptive Statistics "
   ]
  },
  {
   "cell_type": "code",
   "execution_count": 5,
   "id": "ca12ace9-7c94-45e8-ab3a-6e2bd0283070",
   "metadata": {},
   "outputs": [
    {
     "name": "stdout",
     "output_type": "stream",
     "text": [
      "count         306429\n",
      "unique           494\n",
      "top       05/29/2021\n",
      "freq             765\n",
      "Name: ObservationDate, dtype: object\n",
      "count      228326\n",
      "unique        736\n",
      "top       Unknown\n",
      "freq         4123\n",
      "Name: Province/State, dtype: object\n",
      "count     306429\n",
      "unique       229\n",
      "top       Russia\n",
      "freq       30251\n",
      "Name: Country/Region, dtype: object\n",
      "count                  306429\n",
      "unique                   1905\n",
      "top       2021-04-02 15:13:53\n",
      "freq                   239885\n",
      "Name: Last Update, dtype: object\n",
      "ObservationDate\n",
      "05/29/2021    765\n",
      "02/22/2021    765\n",
      "02/24/2021    765\n",
      "02/25/2021    765\n",
      "02/26/2021    765\n",
      "             ... \n",
      "01/26/2020     49\n",
      "01/23/2020     48\n",
      "01/25/2020     46\n",
      "01/24/2020     43\n",
      "01/22/2020     40\n",
      "Name: count, Length: 494, dtype: int64\n",
      "Province/State\n",
      "Unknown                         4123\n",
      "Amazonas                        1109\n",
      "Diamond Princess cruise ship     924\n",
      "Grand Princess                   882\n",
      "Punjab                           708\n",
      "                                ... \n",
      "Harrison County, KY                1\n",
      "Queens County, NY                  1\n",
      "Johnson County, IA                 1\n",
      "Unassigned Location, VT            1\n",
      "Charlotte County, FL               1\n",
      "Name: count, Length: 736, dtype: int64\n",
      "Country/Region\n",
      "Russia                 30251\n",
      "US                     26740\n",
      "Japan                  18059\n",
      "Mainland China         15758\n",
      "India                  13182\n",
      "                       ...  \n",
      " Azerbaijan                1\n",
      "North Ireland              1\n",
      "Republic of Ireland        1\n",
      "Cape Verde                 1\n",
      "East Timor                 1\n",
      "Name: count, Length: 229, dtype: int64\n",
      "Last Update\n",
      "2021-04-02 15:13:53    239885\n",
      "3/8/20 5:31              1252\n",
      "2021-05-30 04:20:55       765\n",
      "2021-04-26 04:21:04       765\n",
      "2021-04-20 04:20:41       765\n",
      "                        ...  \n",
      "2020-03-10T10:33:02         1\n",
      "2020-02-18T01:33:01         1\n",
      "2020-03-10T01:33:02         1\n",
      "2020-03-10T07:33:03         1\n",
      "2020-02-04T03:03:07         1\n",
      "Name: count, Length: 1905, dtype: int64\n"
     ]
    }
   ],
   "source": [
    "# Summary statistics for categorical columns\n",
    "cat=[]\n",
    "con=[]\n",
    "for i in df:\n",
    "    if df[i].dtypes=='object' :\n",
    "        cat.append(i)\n",
    "    else:\n",
    "        con.append(i)\n",
    "\n",
    "df.describe()\n",
    "\n",
    "\n",
    "for i in cat:\n",
    "    print(df[i].describe())\n",
    "\n",
    "\n",
    "for i in cat:\n",
    "    print(df[i].value_counts())\n"
   ]
  },
  {
   "cell_type": "markdown",
   "id": "474028eb-414e-41c8-92b6-759708cf72e5",
   "metadata": {},
   "source": [
    "# 4  Time Series Analysis"
   ]
  },
  {
   "cell_type": "code",
   "execution_count": 19,
   "id": "217daf81-5b60-4041-bb9e-2a6cacc01673",
   "metadata": {},
   "outputs": [
    {
     "data": {
      "text/html": [
       "<div>\n",
       "<style scoped>\n",
       "    .dataframe tbody tr th:only-of-type {\n",
       "        vertical-align: middle;\n",
       "    }\n",
       "\n",
       "    .dataframe tbody tr th {\n",
       "        vertical-align: top;\n",
       "    }\n",
       "\n",
       "    .dataframe thead th {\n",
       "        text-align: right;\n",
       "    }\n",
       "</style>\n",
       "<table border=\"1\" class=\"dataframe\">\n",
       "  <thead>\n",
       "    <tr style=\"text-align: right;\">\n",
       "      <th></th>\n",
       "      <th>Confirmed</th>\n",
       "      <th>Deaths</th>\n",
       "      <th>Recovered</th>\n",
       "    </tr>\n",
       "    <tr>\n",
       "      <th>ObservationDate</th>\n",
       "      <th></th>\n",
       "      <th></th>\n",
       "      <th></th>\n",
       "    </tr>\n",
       "  </thead>\n",
       "  <tbody>\n",
       "    <tr>\n",
       "      <th>01/01/2021</th>\n",
       "      <td>84092619.0</td>\n",
       "      <td>1834675.0</td>\n",
       "      <td>47313005.0</td>\n",
       "    </tr>\n",
       "    <tr>\n",
       "      <th>01/02/2021</th>\n",
       "      <td>84718978.0</td>\n",
       "      <td>1843108.0</td>\n",
       "      <td>47614297.0</td>\n",
       "    </tr>\n",
       "    <tr>\n",
       "      <th>01/03/2021</th>\n",
       "      <td>85251774.0</td>\n",
       "      <td>1850449.0</td>\n",
       "      <td>47882779.0</td>\n",
       "    </tr>\n",
       "    <tr>\n",
       "      <th>01/04/2021</th>\n",
       "      <td>85805892.0</td>\n",
       "      <td>1860598.0</td>\n",
       "      <td>48173187.0</td>\n",
       "    </tr>\n",
       "    <tr>\n",
       "      <th>01/05/2021</th>\n",
       "      <td>86546014.0</td>\n",
       "      <td>1875953.0</td>\n",
       "      <td>48488548.0</td>\n",
       "    </tr>\n",
       "    <tr>\n",
       "      <th>...</th>\n",
       "      <td>...</td>\n",
       "      <td>...</td>\n",
       "      <td>...</td>\n",
       "    </tr>\n",
       "    <tr>\n",
       "      <th>12/27/2020</th>\n",
       "      <td>80912611.0</td>\n",
       "      <td>1771659.0</td>\n",
       "      <td>45717710.0</td>\n",
       "    </tr>\n",
       "    <tr>\n",
       "      <th>12/28/2020</th>\n",
       "      <td>81408934.0</td>\n",
       "      <td>1781415.0</td>\n",
       "      <td>46016136.0</td>\n",
       "    </tr>\n",
       "    <tr>\n",
       "      <th>12/29/2020</th>\n",
       "      <td>82073362.0</td>\n",
       "      <td>1796786.0</td>\n",
       "      <td>46369231.0</td>\n",
       "    </tr>\n",
       "    <tr>\n",
       "      <th>12/30/2020</th>\n",
       "      <td>82834592.0</td>\n",
       "      <td>1811843.0</td>\n",
       "      <td>46757476.0</td>\n",
       "    </tr>\n",
       "    <tr>\n",
       "      <th>12/31/2020</th>\n",
       "      <td>83559601.0</td>\n",
       "      <td>1825012.0</td>\n",
       "      <td>47032627.0</td>\n",
       "    </tr>\n",
       "  </tbody>\n",
       "</table>\n",
       "<p>494 rows × 3 columns</p>\n",
       "</div>"
      ],
      "text/plain": [
       "                  Confirmed     Deaths   Recovered\n",
       "ObservationDate                                   \n",
       "01/01/2021       84092619.0  1834675.0  47313005.0\n",
       "01/02/2021       84718978.0  1843108.0  47614297.0\n",
       "01/03/2021       85251774.0  1850449.0  47882779.0\n",
       "01/04/2021       85805892.0  1860598.0  48173187.0\n",
       "01/05/2021       86546014.0  1875953.0  48488548.0\n",
       "...                     ...        ...         ...\n",
       "12/27/2020       80912611.0  1771659.0  45717710.0\n",
       "12/28/2020       81408934.0  1781415.0  46016136.0\n",
       "12/29/2020       82073362.0  1796786.0  46369231.0\n",
       "12/30/2020       82834592.0  1811843.0  46757476.0\n",
       "12/31/2020       83559601.0  1825012.0  47032627.0\n",
       "\n",
       "[494 rows x 3 columns]"
      ]
     },
     "execution_count": 19,
     "metadata": {},
     "output_type": "execute_result"
    }
   ],
   "source": [
    "df_time = df.groupby('ObservationDate').agg({'Confirmed': 'sum', 'Deaths': 'sum', 'Recovered': 'sum'})\n",
    "df_time \n"
   ]
  },
  {
   "cell_type": "code",
   "execution_count": 27,
   "id": "231a84de-ca8a-42b1-9aeb-78289bf29a90",
   "metadata": {},
   "outputs": [
    {
     "data": {
      "text/plain": [
       "<Axes: xlabel='ObservationDate', ylabel='Deaths'>"
      ]
     },
     "execution_count": 27,
     "metadata": {},
     "output_type": "execute_result"
    },
    {
     "data": {
      "image/png": "[encoded data removed]",
      "text/plain": [
       "<Figure size 640x480 with 1 Axes>"
      ]
     },
     "metadata": {},
     "output_type": "display_data"
    }
   ],
   "source": [
    "\n",
    "sns.lineplot(data=df_time, x='ObservationDate', y='Deaths', label='Deaths')"
   ]
  },
  {
   "cell_type": "markdown",
   "id": "ab2edbe2-aaf2-4cc1-92cc-ebd78904a2ae",
   "metadata": {},
   "source": [
    "# 5. Geographical Analysis:"
   ]
  },
  {
   "cell_type": "code",
   "execution_count": 21,
   "id": "3d663ed4-b7e5-4839-bbe0-a633b6f3e419",
   "metadata": {},
   "outputs": [],
   "source": [
    "df_country = df.groupby('Country/Region').agg({'Confirmed': 'sum', 'Deaths': 'sum', 'Recovered': 'sum'})\n"
   ]
  },
  {
   "cell_type": "code",
   "execution_count": 23,
   "id": "25a205bb-f34f-4a3c-bcf6-5fc60cd64313",
   "metadata": {},
   "outputs": [
    {
     "data": {
      "text/plain": [
       "<Axes: xlabel='Country/Region', ylabel='Confirmed'>"
      ]
     },
     "execution_count": 23,
     "metadata": {},
     "output_type": "execute_result"
    },
    {
     "data": {
      "image/png": "[encoded data removed]",
      "text/plain": [
       "<Figure size 640x480 with 1 Axes>"
      ]
     },
     "metadata": {},
     "output_type": "display_data"
    }
   ],
   "source": [
    "sns.barplot(x=df_country.index, y='Confirmed', data=df_country)"
   ]
  },
  {
   "cell_type": "markdown",
   "id": "5a1cf643-1d5f-49af-b525-71f1448f1948",
   "metadata": {},
   "source": [
    "# 6. Correlation Analysis"
   ]
  },
  {
   "cell_type": "code",
   "execution_count": 31,
   "id": "94d33140-328c-4d40-af46-b2b2d8a3a696",
   "metadata": {},
   "outputs": [
    {
     "data": {
      "text/plain": [
       "<Axes: >"
      ]
     },
     "execution_count": 31,
     "metadata": {},
     "output_type": "execute_result"
    },
    {
     "data": {
      "image/png": "[encoded data removed]",
      "text/plain": [
       "<Figure size 640x480 with 2 Axes>"
      ]
     },
     "metadata": {},
     "output_type": "display_data"
    }
   ],
   "source": [
    "# Plot correlation on heat map\n",
    "df.columns\n",
    "c=df[['Confirmed', 'Deaths', 'Recovered']].corr()\n",
    "sns.heatmap(c,annot=True)"
   ]
  },
  {
   "cell_type": "markdown",
   "id": "761b6d50-7f7a-441e-9eca-5d418ffa7c72",
   "metadata": {},
   "source": [
    "# 7. Advanced Analysis:"
   ]
  },
  {
   "cell_type": "code",
   "execution_count": 18,
   "id": "cf1f693d-ffe3-4217-bcbd-7f290d1023c6",
   "metadata": {},
   "outputs": [],
   "source": [
    "# Calculate the total number of confirmed cases, deaths, and recoveries for each country/region.\n",
    "total_confirmed=df['Confirmed'].groupby(by=df['Country/Region']).sum()\n",
    "total_recovered=df['Recovered'].groupby(by=df['Country/Region']).sum()\n",
    "total_deaths=df['Deaths'].groupby(by=df['Country/Region']).sum()\n",
    "\n"
   ]
  },
  {
   "cell_type": "code",
   "execution_count": 96,
   "id": "5a3f3a52-0447-4aa1-b5e9-0016ee7bcaf3",
   "metadata": {},
   "outputs": [
    {
     "name": "stdout",
     "output_type": "stream",
     "text": [
      "           SNo ObservationDate Province/State  Country/Region  \\\n",
      "298068  298069      05/19/2021            NaN          France   \n",
      "297303  297304      05/18/2021            NaN          France   \n",
      "296538  296539      05/17/2021            NaN          France   \n",
      "295773  295774      05/16/2021            NaN          France   \n",
      "295008  295009      05/15/2021            NaN          France   \n",
      "...        ...             ...            ...             ...   \n",
      "257404  257405      03/26/2021        Unknown        Colombia   \n",
      "257406  257407      03/26/2021        Unknown           India   \n",
      "257408  257409      03/26/2021        Unknown  Mainland China   \n",
      "257409  257410      03/26/2021        Unknown          Mexico   \n",
      "147524  147525      11/02/2020        Unknown        Colombia   \n",
      "\n",
      "                Last Update  Confirmed    Deaths  Recovered  \n",
      "298068  2021-05-20 04:21:05  5863138.0  107390.0   324444.0  \n",
      "297303  2021-05-19 04:20:42  5845010.0  107256.0   323205.0  \n",
      "296538  2021-05-18 04:20:33  5829009.0  107041.0   321874.0  \n",
      "295773  2021-05-17 04:20:34  5825659.0  106845.0   321026.0  \n",
      "295008  2021-05-16 04:20:49  5811711.0  106764.0   320711.0  \n",
      "...                     ...        ...       ...        ...  \n",
      "257404  2021-04-02 15:13:53        0.0       0.0        0.0  \n",
      "257406  2021-04-02 15:13:53        0.0       0.0        0.0  \n",
      "257408  2021-04-02 15:13:53        0.0       0.0        3.0  \n",
      "257409  2021-04-02 15:13:53        0.0       0.0  1755798.0  \n",
      "147524  2021-04-02 15:13:53  -302844.0       0.0        0.0  \n",
      "\n",
      "[306429 rows x 8 columns]            SNo ObservationDate Province/State  Country/Region  \\\n",
      "305972  305973      05/29/2021        England              UK   \n",
      "305207  305208      05/28/2021        England              UK   \n",
      "304442  304443      05/27/2021        England              UK   \n",
      "303677  303678      05/26/2021        England              UK   \n",
      "302912  302913      05/25/2021        England              UK   \n",
      "...        ...             ...            ...             ...   \n",
      "137023  137024      10/19/2020          Tibet  Mainland China   \n",
      "137032  137033      10/19/2020        Tottori           Japan   \n",
      "137046  137047      10/19/2020        Unknown        Colombia   \n",
      "141534  141535      10/25/2020        Unknown        Colombia   \n",
      "118363  118364      09/24/2020        Unknown        Colombia   \n",
      "\n",
      "                Last Update  Confirmed    Deaths  Recovered  \n",
      "305972  2021-05-30 04:20:55  3910803.0  112385.0        0.0  \n",
      "305207  2021-05-29 04:20:41  3908214.0  112379.0        0.0  \n",
      "304442  2021-05-28 04:20:36  3904934.0  112371.0        0.0  \n",
      "303677  2021-05-27 04:20:59  3902160.0  112363.0        0.0  \n",
      "302912  2021-05-26 04:20:35  3899813.0  112355.0        0.0  \n",
      "...                     ...        ...       ...        ...  \n",
      "137023  2021-04-02 15:13:53        1.0       0.0        1.0  \n",
      "137032  2021-04-02 15:13:53       36.0       0.0       36.0  \n",
      "137046  2021-04-02 15:13:53        0.0       0.0        0.0  \n",
      "141534  2021-04-02 15:13:53        0.0    -154.0    -8072.0  \n",
      "118363  2021-04-02 15:13:53        0.0    -178.0   -12684.0  \n",
      "\n",
      "[306429 rows x 8 columns]            SNo ObservationDate Province/State Country/Region  \\\n",
      "179328  179329      12/14/2020      Recovered             US   \n",
      "178565  178566      12/13/2020      Recovered             US   \n",
      "177802  177803      12/12/2020      Recovered             US   \n",
      "177039  177040      12/11/2020      Recovered             US   \n",
      "176276  176277      12/10/2020      Recovered             US   \n",
      "...        ...             ...            ...            ...   \n",
      "169485  169486      12/01/2020          Texas             US   \n",
      "306428  306429      05/29/2021   Zuid-Holland    Netherlands   \n",
      "141534  141535      10/25/2020        Unknown       Colombia   \n",
      "118363  118364      09/24/2020        Unknown       Colombia   \n",
      "145277  145278      10/30/2020        Unknown       Colombia   \n",
      "\n",
      "                Last Update  Confirmed   Deaths  Recovered  \n",
      "179328  2021-04-02 15:13:53        0.0      0.0  6399531.0  \n",
      "178565  2021-04-02 15:13:53        0.0      0.0  6298082.0  \n",
      "177802  2021-04-02 15:13:53        0.0      0.0  6246605.0  \n",
      "177039  2021-04-02 15:13:53        0.0      0.0  6135314.0  \n",
      "176276  2021-04-02 15:13:53        0.0      0.0  5985047.0  \n",
      "...                     ...        ...      ...        ...  \n",
      "169485  2021-04-02 15:13:53  1306735.0  22473.0        0.0  \n",
      "306428  2021-05-30 04:20:55   391559.0   4252.0        0.0  \n",
      "141534  2021-04-02 15:13:53        0.0   -154.0    -8072.0  \n",
      "118363  2021-04-02 15:13:53        0.0   -178.0   -12684.0  \n",
      "145277  2021-04-02 15:13:53        0.0    505.0  -854405.0  \n",
      "\n",
      "[306429 rows x 8 columns]\n"
     ]
    }
   ],
   "source": [
    "# Identify the countries/regions with the highest number of confirmed cases, deaths, and recoveries.\n",
    "a=df.sort_values(by='Confirmed',ascending=False)\n",
    "high_conf=a.head(1)\n",
    "b=df.sort_values(by='Deaths',ascending=False)\n",
    "high_deaths=b.head(1)\n",
    "c=df.sort_values(by='Recovered',ascending=False)\n",
    "high_recov=c.head(1)\n",
    "print(a,b,c)"
   ]
  },
  {
   "cell_type": "code",
   "execution_count": 35,
   "id": "bae2123d-b177-41a9-a1c8-d2231218ba31",
   "metadata": {},
   "outputs": [
    {
     "data": {
      "image/png": "[encoded data removed]",
      "text/plain": [
       "<Figure size 640x480 with 1 Axes>"
      ]
     },
     "metadata": {},
     "output_type": "display_data"
    }
   ],
   "source": [
    "# Visualize the distribution of deaths using bar chart\n",
    "plt.hist(df['Deaths'],bins=10)\n",
    "plt.title('Distribution Of Deaths')\n",
    "plt.ylabel('Frequency')\n",
    "plt.show()"
   ]
  },
  {
   "cell_type": "code",
   "execution_count": 74,
   "id": "3eea0bde-3da6-4f11-aa53-eafb9157cbee",
   "metadata": {},
   "outputs": [
    {
     "data": {
      "text/plain": [
       "<Axes: ylabel='Frequency'>"
      ]
     },
     "execution_count": 74,
     "metadata": {},
     "output_type": "execute_result"
    },
    {
     "data": {
      "image/png": "[encoded data removed]",
      "text/plain": [
       "<Figure size 640x480 with 1 Axes>"
      ]
     },
     "metadata": {},
     "output_type": "display_data"
    }
   ],
   "source": [
    "df['Deaths'].value_counts().plot(kind='hist')\n"
   ]
  },
  {
   "cell_type": "code",
   "execution_count": 19,
   "id": "b5f586c7-2e86-4ea5-b582-c9e57b43e7d9",
   "metadata": {},
   "outputs": [],
   "source": []
  },
  {
   "cell_type": "code",
   "execution_count": null,
   "id": "08460c7d-8159-413e-b678-cbbbd6f6bd9c",
   "metadata": {},
   "outputs": [],
   "source": []
  },
  {
   "cell_type": "code",
   "execution_count": null,
   "id": "8fa91807-63ba-4146-bda6-a2a149c08c31",
   "metadata": {},
   "outputs": [],
   "source": []
  },
  {
   "cell_type": "code",
   "execution_count": null,
   "id": "266f4539-bcc9-480c-aa8b-c23373600c5b",
   "metadata": {},
   "outputs": [],
   "source": []
  },
  {
   "cell_type": "code",
   "execution_count": null,
   "id": "74917d04-672f-4281-b737-6ff000e767a7",
   "metadata": {},
   "outputs": [],
   "source": []
  }
 ],
 "metadata": {
  "kernelspec": {
   "display_name": "Python 3 (ipykernel)",
   "language": "python",
   "name": "python3"
  },
  "language_info": {
   "codemirror_mode": {
    "name": "ipython",
    "version": 3
   },
   "file_extension": ".py",
   "mimetype": "text/x-python",
   "name": "python",
   "nbconvert_exporter": "python",
   "pygments_lexer": "ipython3",
   "version": "3.12.4"
  }
 },
 "nbformat": 4,
 "nbformat_minor": 5
}
